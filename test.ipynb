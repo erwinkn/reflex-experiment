{
 "cells": [
  {
   "cell_type": "code",
   "execution_count": 44,
   "metadata": {},
   "outputs": [
    {
     "name": "stdout",
     "output_type": "stream",
     "text": [
      "Field opt1 has type <class 'int'>, outer type <class 'int'>\n",
      "Origin: None\n",
      "Args: ()\n",
      "Field opt2 has type <class 'int'>, outer type <class 'int'>\n",
      "Origin: None\n",
      "Args: ()\n",
      "Field opt3 has type <class 'int'>, outer type <class 'int'>\n",
      "Origin: None\n",
      "Args: ()\n"
     ]
    }
   ],
   "source": [
    "from inspect import isclass\n",
    "from typing import (\n",
    "    Generic,\n",
    "    List,\n",
    "    Optional,\n",
    "    Sequence,\n",
    "    Tuple,\n",
    "    TypeVar,\n",
    "    Union,\n",
    "    get_origin,\n",
    "    get_args,\n",
    ")\n",
    "from types import UnionType\n",
    "from pydantic.v1 import Field, BaseModel\n",
    "from pydantic.v1.generics import GenericModel\n",
    "\n",
    "\n",
    "class SubElement(BaseModel):\n",
    "    x: int\n",
    "    y: str\n",
    "\n",
    "\n",
    "T = TypeVar(\"T\")\n",
    "\n",
    "\n",
    "class SubGenericElement(GenericModel, Generic[T]):\n",
    "    value: T\n",
    "\n",
    "\n",
    "# Original model with snake_case\n",
    "class MyElement(BaseModel):\n",
    "    # a: float\n",
    "    # union1: int | str\n",
    "    # union2: Union[int, str]\n",
    "    opt1: int | None\n",
    "    opt2: Optional[int]\n",
    "    opt3: Union[int, None]\n",
    "    # d: tuple[str]\n",
    "    # e: Tuple[bool]\n",
    "    # f: list[str]\n",
    "    # g: List[int | str]\n",
    "    # h: List[Union[int, str]]\n",
    "    # dict1: dict[str, str]\n",
    "    # sub: SubElement\n",
    "    # sub2: SubGenericElement[SubElement]\n",
    "    # sub3: SubGenericElement\n",
    "\n",
    "\n",
    "# Create camelCase version\n",
    "# MyElementNative = create_camel_model(MyElement)\n",
    "# MyElementNative.__fields__\n",
    "\n",
    "\n",
    "for field_name, field in MyElement.__fields__.items():\n",
    "    print(f\"Field {field_name} has type {field.type_}, outer type {field.outer_type_}\")\n",
    "    print(f\"Origin: {get_origin(field.outer_type_)}\")\n",
    "    print(f\"Args: {get_args(field.outer_type_)}\")\n",
    "    origin = get_origin(field.outer_type_)\n",
    "    args = get_args(field.outer_type_)\n",
    "    is_optional = not field.required\n",
    "    is_list = origin is list\n",
    "    is_tuple = origin is tuple\n",
    "    is_object = origin is dict\n",
    "    is_union = origin is Union or origin is UnionType\n",
    "    # This check fails if we use the origin\n",
    "    is_model = isclass(field.outer_type_) and issubclass(field.outer_type_, BaseModel)\n",
    "    is_generic_model = (\n",
    "        isclass(field.outer_type_)\n",
    "        and issubclass(field.outer_type_, GenericModel)\n",
    "        and not field.outer_type_.__concrete__\n",
    "    )\n",
    "    inner_types = [t for t in args if t is not type(None)]\n",
    "    # print(f\"Is optional = {is_optional}, is union = {is_union}, is list = {is_list}, is tuple = {is_tuple}, is_model = {is_model}, is_generic-model = {is_generic_model}\")\n",
    "    # print(\"Inner types:\", inner_types)\n",
    "\n",
    "\n",
    "# Now has fields: clientHeight, scrollWidth, contentEditable"
   ]
  },
  {
   "cell_type": "code",
   "execution_count": 36,
   "metadata": {},
   "outputs": [
    {
     "data": {
      "text/plain": [
       "True"
      ]
     },
     "execution_count": 36,
     "metadata": {},
     "output_type": "execute_result"
    }
   ],
   "source": [
    "opt3 = MyElement.__fields__[\"opt3\"]\n",
    "opt3.outer_type_ == opt3.type_"
   ]
  },
  {
   "cell_type": "code",
   "execution_count": 53,
   "metadata": {},
   "outputs": [
    {
     "data": {
      "text/plain": [
       "(types.UnionType, (int, str, NoneType))"
      ]
     },
     "execution_count": 53,
     "metadata": {},
     "output_type": "execute_result"
    }
   ],
   "source": [
    "from typing import Literal\n",
    "\n",
    "\n",
    "t = int | str | None\n",
    "get_origin(t), get_args(t)"
   ]
  },
  {
   "cell_type": "code",
   "execution_count": null,
   "metadata": {},
   "outputs": [],
   "source": [
    "from reflex_experiment.events import DOMEvents, ChangeEvent, FocusEvent\n",
    "from reflex_experiment.elements import HTMLInputElement\n",
    "\n",
    "input_change_event = FocusEvent[HTMLInputElement]\n",
    "input_change_event.__fields__[\"related_target\"].required\n",
    "\n",
    "\n",
    "def test(evt: HTMLInputElement):\n",
    "    evt.dict()"
   ]
  },
  {
   "cell_type": "code",
   "execution_count": null,
   "metadata": {},
   "outputs": [],
   "source": [
    "import reflex as rx\n",
    "\n",
    "rx.Base"
   ]
  },
  {
   "cell_type": "code",
   "execution_count": 2,
   "metadata": {},
   "outputs": [
    {
     "name": "stdout",
     "output_type": "stream",
     "text": [
      "data=1 error=None\n",
      "data='value' error=None\n",
      "{'data': 'value', 'error': None}\n",
      "{'data': {'numbers': [1, 2, 3], 'people': []}, 'error': None}\n",
      "{'data': None, 'error': {'code': 404, 'message': 'Not found'}}\n",
      "2 validation errors for Response[int]\n",
      "data\n",
      "  value is not a valid integer (type=type_error.integer)\n",
      "error\n",
      "  must provide data or error (type=value_error)\n"
     ]
    }
   ],
   "source": [
    "from typing import Generic, TypeVar\n",
    "\n",
    "from pydantic.v1 import BaseModel, validator, ValidationError\n",
    "from pydantic.v1.generics import GenericModel\n",
    "\n",
    "DataT = TypeVar(\"DataT\")\n",
    "\n",
    "\n",
    "class Error(BaseModel):\n",
    "    code: int\n",
    "    message: str\n",
    "\n",
    "\n",
    "class DataModel(BaseModel):\n",
    "    numbers: list[int]\n",
    "    people: list[str]\n",
    "\n",
    "\n",
    "class Response(GenericModel, Generic[DataT]):\n",
    "    data: DataT | None = None\n",
    "    error: Error | None = None\n",
    "\n",
    "    @validator(\"error\", always=True)\n",
    "    def check_consistency(cls, v, values):\n",
    "        if v is not None and values[\"data\"] is not None:\n",
    "            raise ValueError(\"must not provide both data and error\")\n",
    "        if v is None and values.get(\"data\") is None:\n",
    "            raise ValueError(\"must provide data or error\")\n",
    "        return v\n",
    "\n",
    "\n",
    "data = DataModel(numbers=[1, 2, 3], people=[])\n",
    "error = Error(code=404, message=\"Not found\")\n",
    "\n",
    "print(Response[int](data=1))\n",
    "# > data=1 error=None\n",
    "print(Response[str](data=\"value\"))\n",
    "# > data='value' error=None\n",
    "print(Response[str](data=\"value\").dict())\n",
    "# > {'data': 'value', 'error': None}\n",
    "print(Response[DataModel](data=data).dict())\n",
    "\"\"\"\n",
    "{\n",
    "    'data': {'numbers': [1, 2, 3], 'people': []},\n",
    "    'error': None,\n",
    "}\n",
    "\"\"\"\n",
    "print(Response[DataModel](error=error).dict())\n",
    "\"\"\"\n",
    "{\n",
    "    'data': None,\n",
    "    'error': {'code': 404, 'message': 'Not found'},\n",
    "}\n",
    "\"\"\"\n",
    "try:\n",
    "    Response[int](data=\"value\")\n",
    "except ValidationError as e:\n",
    "    print(e)\n",
    "    \"\"\"\n",
    "    2 validation errors for Response[int]\n",
    "    data\n",
    "      value is not a valid integer (type=type_error.integer)\n",
    "    error\n",
    "      must provide data or error (type=value_error)\n",
    "    \"\"\""
   ]
  },
  {
   "cell_type": "code",
   "execution_count": 5,
   "metadata": {},
   "outputs": [
    {
     "ename": "ConfigError",
     "evalue": "Model 'HTMLAnchorElementNative' needs a discriminator field for key 'tag_name'",
     "output_type": "error",
     "traceback": [
      "\u001b[31m---------------------------------------------------------------------------\u001b[39m",
      "\u001b[31mKeyError\u001b[39m                                  Traceback (most recent call last)",
      "\u001b[36mFile \u001b[39m\u001b[32m~/Code/ext/reflex-experiment/.venv/lib/python3.13/site-packages/pydantic/v1/utils.py:786\u001b[39m, in \u001b[36mget_discriminator_alias_and_values\u001b[39m\u001b[34m(tp, discriminator_key)\u001b[39m\n\u001b[32m    785\u001b[39m \u001b[38;5;28;01mtry\u001b[39;00m:\n\u001b[32m--> \u001b[39m\u001b[32m786\u001b[39m     t_discriminator_type = \u001b[43mtp\u001b[49m\u001b[43m.\u001b[49m\u001b[43m__fields__\u001b[49m\u001b[43m[\u001b[49m\u001b[43mdiscriminator_key\u001b[49m\u001b[43m]\u001b[49m.type_\n\u001b[32m    787\u001b[39m \u001b[38;5;28;01mexcept\u001b[39;00m \u001b[38;5;167;01mAttributeError\u001b[39;00m \u001b[38;5;28;01mas\u001b[39;00m e:\n",
      "\u001b[31mKeyError\u001b[39m: 'tag_name'",
      "\nThe above exception was the direct cause of the following exception:\n",
      "\u001b[31mConfigError\u001b[39m                               Traceback (most recent call last)",
      "\u001b[36mCell\u001b[39m\u001b[36m \u001b[39m\u001b[32mIn[5]\u001b[39m\u001b[32m, line 5\u001b[39m\n\u001b[32m      2\u001b[39m \u001b[38;5;28;01mfrom\u001b[39;00m\u001b[38;5;250m \u001b[39m\u001b[34;01mreflex_experiment\u001b[39;00m\u001b[34;01m.\u001b[39;00m\u001b[34;01mevents\u001b[39;00m\u001b[38;5;250m \u001b[39m\u001b[38;5;28;01mimport\u001b[39;00m PointerEvent, TouchEvent\n\u001b[32m      3\u001b[39m \u001b[38;5;28;01mfrom\u001b[39;00m\u001b[38;5;250m \u001b[39m\u001b[34;01mreflex_experiment\u001b[39;00m\u001b[34;01m.\u001b[39;00m\u001b[34;01melements\u001b[39;00m\u001b[38;5;250m \u001b[39m\u001b[38;5;28;01mimport\u001b[39;00m HTMLButtonElement\n\u001b[32m----> \u001b[39m\u001b[32m5\u001b[39m m = \u001b[43mcreate_camel_model\u001b[49m\u001b[43m(\u001b[49m\u001b[43mTouchEvent\u001b[49m\u001b[43m[\u001b[49m\u001b[43mHTMLButtonElement\u001b[49m\u001b[43m]\u001b[49m\u001b[43m,\u001b[49m\u001b[43m \u001b[49m\u001b[43msuffix\u001b[49m\u001b[43m=\u001b[49m\u001b[33;43m\"\u001b[39;49m\u001b[33;43mNative\u001b[39;49m\u001b[33;43m\"\u001b[39;49m\u001b[43m)\u001b[49m\n\u001b[32m      6\u001b[39m m.__fields__\n",
      "\u001b[36mFile \u001b[39m\u001b[32m~/Code/ext/reflex-experiment/reflex_experiment/helpers.py:57\u001b[39m, in \u001b[36mcreate_camel_model\u001b[39m\u001b[34m(model, suffix, prefix)\u001b[39m\n\u001b[32m     49\u001b[39m         new_args = tuple(\n\u001b[32m     50\u001b[39m             create_camel_model(arg, prefix=prefix, suffix=suffix)\n\u001b[32m     51\u001b[39m             if isinstance(arg, type) and issubclass(arg, BaseModel)\n\u001b[32m     52\u001b[39m             else arg\n\u001b[32m     53\u001b[39m             for arg in args\n\u001b[32m     54\u001b[39m         )\n\u001b[32m     55\u001b[39m         field_type = origin[new_args]\n\u001b[32m     56\u001b[39m elif isinstance(field_type, type) and issubclass(field_type, BaseModel):\n\u001b[32m---> \u001b[39m\u001b[32m57\u001b[39m     # Handle nested model\n\u001b[32m     58\u001b[39m     field_type = create_camel_model(field_type, prefix=prefix, suffix=suffix)\n\u001b[32m     60\u001b[39m fields[field_camel_name] = (field_type, field.field_info)\n",
      "\u001b[36mFile \u001b[39m\u001b[32m~/Code/ext/reflex-experiment/reflex_experiment/helpers.py:61\u001b[39m, in \u001b[36mcreate_camel_model\u001b[39m\u001b[34m(model, suffix, prefix)\u001b[39m\n\u001b[32m      0\u001b[39m <Error retrieving source code with stack_data see ipython/ipython#13598>\n",
      "\u001b[36mFile \u001b[39m\u001b[32m~/Code/ext/reflex-experiment/.venv/lib/python3.13/site-packages/pydantic/v1/main.py:1024\u001b[39m, in \u001b[36mcreate_model\u001b[39m\u001b[34m(__model_name, __config__, __base__, __module__, __validators__, __cls_kwargs__, __slots__, **field_definitions)\u001b[39m\n\u001b[32m   1022\u001b[39m     ns[\u001b[33m'\u001b[39m\u001b[33m__orig_bases__\u001b[39m\u001b[33m'\u001b[39m] = __base__\n\u001b[32m   1023\u001b[39m namespace.update(ns)\n\u001b[32m-> \u001b[39m\u001b[32m1024\u001b[39m \u001b[38;5;28;01mreturn\u001b[39;00m \u001b[43mmeta\u001b[49m\u001b[43m(\u001b[49m\u001b[43m__model_name\u001b[49m\u001b[43m,\u001b[49m\u001b[43m \u001b[49m\u001b[43mresolved_bases\u001b[49m\u001b[43m,\u001b[49m\u001b[43m \u001b[49m\u001b[43mnamespace\u001b[49m\u001b[43m,\u001b[49m\u001b[43m \u001b[49m\u001b[43m*\u001b[49m\u001b[43m*\u001b[49m\u001b[43mkwds\u001b[49m\u001b[43m)\u001b[49m\n",
      "\u001b[36mFile \u001b[39m\u001b[32m~/Code/ext/reflex-experiment/.venv/lib/python3.13/site-packages/pydantic/v1/main.py:197\u001b[39m, in \u001b[36mModelMetaclass.__new__\u001b[39m\u001b[34m(mcs, name, bases, namespace, **kwargs)\u001b[39m\n\u001b[32m    189\u001b[39m     \u001b[38;5;28;01mif\u001b[39;00m (\n\u001b[32m    190\u001b[39m         is_untouched(value)\n\u001b[32m    191\u001b[39m         \u001b[38;5;129;01mand\u001b[39;00m ann_type != PyObject\n\u001b[32m   (...)\u001b[39m\u001b[32m    194\u001b[39m         )\n\u001b[32m    195\u001b[39m     ):\n\u001b[32m    196\u001b[39m         \u001b[38;5;28;01mcontinue\u001b[39;00m\n\u001b[32m--> \u001b[39m\u001b[32m197\u001b[39m     fields[ann_name] = \u001b[43mModelField\u001b[49m\u001b[43m.\u001b[49m\u001b[43minfer\u001b[49m\u001b[43m(\u001b[49m\n\u001b[32m    198\u001b[39m \u001b[43m        \u001b[49m\u001b[43mname\u001b[49m\u001b[43m=\u001b[49m\u001b[43mann_name\u001b[49m\u001b[43m,\u001b[49m\n\u001b[32m    199\u001b[39m \u001b[43m        \u001b[49m\u001b[43mvalue\u001b[49m\u001b[43m=\u001b[49m\u001b[43mvalue\u001b[49m\u001b[43m,\u001b[49m\n\u001b[32m    200\u001b[39m \u001b[43m        \u001b[49m\u001b[43mannotation\u001b[49m\u001b[43m=\u001b[49m\u001b[43mann_type\u001b[49m\u001b[43m,\u001b[49m\n\u001b[32m    201\u001b[39m \u001b[43m        \u001b[49m\u001b[43mclass_validators\u001b[49m\u001b[43m=\u001b[49m\u001b[43mvg\u001b[49m\u001b[43m.\u001b[49m\u001b[43mget_validators\u001b[49m\u001b[43m(\u001b[49m\u001b[43mann_name\u001b[49m\u001b[43m)\u001b[49m\u001b[43m,\u001b[49m\n\u001b[32m    202\u001b[39m \u001b[43m        \u001b[49m\u001b[43mconfig\u001b[49m\u001b[43m=\u001b[49m\u001b[43mconfig\u001b[49m\u001b[43m,\u001b[49m\n\u001b[32m    203\u001b[39m \u001b[43m    \u001b[49m\u001b[43m)\u001b[49m\n\u001b[32m    204\u001b[39m \u001b[38;5;28;01melif\u001b[39;00m ann_name \u001b[38;5;129;01mnot\u001b[39;00m \u001b[38;5;129;01min\u001b[39;00m namespace \u001b[38;5;129;01mand\u001b[39;00m config.underscore_attrs_are_private:\n\u001b[32m    205\u001b[39m     private_attributes[ann_name] = PrivateAttr()\n",
      "\u001b[36mFile \u001b[39m\u001b[32m~/Code/ext/reflex-experiment/.venv/lib/python3.13/site-packages/pydantic/v1/fields.py:504\u001b[39m, in \u001b[36mModelField.infer\u001b[39m\u001b[34m(cls, name, value, annotation, class_validators, config)\u001b[39m\n\u001b[32m    501\u001b[39m     required = \u001b[38;5;28;01mFalse\u001b[39;00m\n\u001b[32m    502\u001b[39m annotation = get_annotation_from_field_info(annotation, field_info, name, config.validate_assignment)\n\u001b[32m--> \u001b[39m\u001b[32m504\u001b[39m \u001b[38;5;28;01mreturn\u001b[39;00m \u001b[38;5;28;43mcls\u001b[39;49m\u001b[43m(\u001b[49m\n\u001b[32m    505\u001b[39m \u001b[43m    \u001b[49m\u001b[43mname\u001b[49m\u001b[43m=\u001b[49m\u001b[43mname\u001b[49m\u001b[43m,\u001b[49m\n\u001b[32m    506\u001b[39m \u001b[43m    \u001b[49m\u001b[43mtype_\u001b[49m\u001b[43m=\u001b[49m\u001b[43mannotation\u001b[49m\u001b[43m,\u001b[49m\n\u001b[32m    507\u001b[39m \u001b[43m    \u001b[49m\u001b[43malias\u001b[49m\u001b[43m=\u001b[49m\u001b[43mfield_info\u001b[49m\u001b[43m.\u001b[49m\u001b[43malias\u001b[49m\u001b[43m,\u001b[49m\n\u001b[32m    508\u001b[39m \u001b[43m    \u001b[49m\u001b[43mclass_validators\u001b[49m\u001b[43m=\u001b[49m\u001b[43mclass_validators\u001b[49m\u001b[43m,\u001b[49m\n\u001b[32m    509\u001b[39m \u001b[43m    \u001b[49m\u001b[43mdefault\u001b[49m\u001b[43m=\u001b[49m\u001b[43mvalue\u001b[49m\u001b[43m,\u001b[49m\n\u001b[32m    510\u001b[39m \u001b[43m    \u001b[49m\u001b[43mdefault_factory\u001b[49m\u001b[43m=\u001b[49m\u001b[43mfield_info\u001b[49m\u001b[43m.\u001b[49m\u001b[43mdefault_factory\u001b[49m\u001b[43m,\u001b[49m\n\u001b[32m    511\u001b[39m \u001b[43m    \u001b[49m\u001b[43mrequired\u001b[49m\u001b[43m=\u001b[49m\u001b[43mrequired\u001b[49m\u001b[43m,\u001b[49m\n\u001b[32m    512\u001b[39m \u001b[43m    \u001b[49m\u001b[43mmodel_config\u001b[49m\u001b[43m=\u001b[49m\u001b[43mconfig\u001b[49m\u001b[43m,\u001b[49m\n\u001b[32m    513\u001b[39m \u001b[43m    \u001b[49m\u001b[43mfield_info\u001b[49m\u001b[43m=\u001b[49m\u001b[43mfield_info\u001b[49m\u001b[43m,\u001b[49m\n\u001b[32m    514\u001b[39m \u001b[43m\u001b[49m\u001b[43m)\u001b[49m\n",
      "\u001b[36mFile \u001b[39m\u001b[32m~/Code/ext/reflex-experiment/.venv/lib/python3.13/site-packages/pydantic/v1/fields.py:434\u001b[39m, in \u001b[36mModelField.__init__\u001b[39m\u001b[34m(self, name, type_, class_validators, model_config, default, default_factory, required, final, alias, field_info)\u001b[39m\n\u001b[32m    432\u001b[39m \u001b[38;5;28mself\u001b[39m.shape: \u001b[38;5;28mint\u001b[39m = SHAPE_SINGLETON\n\u001b[32m    433\u001b[39m \u001b[38;5;28mself\u001b[39m.model_config.prepare_field(\u001b[38;5;28mself\u001b[39m)\n\u001b[32m--> \u001b[39m\u001b[32m434\u001b[39m \u001b[38;5;28;43mself\u001b[39;49m\u001b[43m.\u001b[49m\u001b[43mprepare\u001b[49m\u001b[43m(\u001b[49m\u001b[43m)\u001b[49m\n",
      "\u001b[36mFile \u001b[39m\u001b[32m~/Code/ext/reflex-experiment/.venv/lib/python3.13/site-packages/pydantic/v1/fields.py:550\u001b[39m, in \u001b[36mModelField.prepare\u001b[39m\u001b[34m(self)\u001b[39m\n\u001b[32m    545\u001b[39m \u001b[38;5;28;01mif\u001b[39;00m \u001b[38;5;28mself\u001b[39m.type_.\u001b[34m__class__\u001b[39m \u001b[38;5;129;01mis\u001b[39;00m ForwardRef \u001b[38;5;129;01mor\u001b[39;00m \u001b[38;5;28mself\u001b[39m.type_.\u001b[34m__class__\u001b[39m \u001b[38;5;129;01mis\u001b[39;00m DeferredType:\n\u001b[32m    546\u001b[39m     \u001b[38;5;66;03m# self.type_ is currently a ForwardRef and there's nothing we can do now,\u001b[39;00m\n\u001b[32m    547\u001b[39m     \u001b[38;5;66;03m# user will need to call model.update_forward_refs()\u001b[39;00m\n\u001b[32m    548\u001b[39m     \u001b[38;5;28;01mreturn\u001b[39;00m\n\u001b[32m--> \u001b[39m\u001b[32m550\u001b[39m \u001b[38;5;28;43mself\u001b[39;49m\u001b[43m.\u001b[49m\u001b[43m_type_analysis\u001b[49m\u001b[43m(\u001b[49m\u001b[43m)\u001b[49m\n\u001b[32m    551\u001b[39m \u001b[38;5;28;01mif\u001b[39;00m \u001b[38;5;28mself\u001b[39m.required \u001b[38;5;129;01mis\u001b[39;00m Undefined:\n\u001b[32m    552\u001b[39m     \u001b[38;5;28mself\u001b[39m.required = \u001b[38;5;28;01mTrue\u001b[39;00m\n",
      "\u001b[36mFile \u001b[39m\u001b[32m~/Code/ext/reflex-experiment/.venv/lib/python3.13/site-packages/pydantic/v1/fields.py:664\u001b[39m, in \u001b[36mModelField._type_analysis\u001b[39m\u001b[34m(self)\u001b[39m\n\u001b[32m    661\u001b[39m         \u001b[38;5;28mself\u001b[39m.sub_fields = [\u001b[38;5;28mself\u001b[39m._create_sub_type(t, \u001b[33mf\u001b[39m\u001b[33m'\u001b[39m\u001b[38;5;132;01m{\u001b[39;00m\u001b[38;5;28mself\u001b[39m.name\u001b[38;5;132;01m}\u001b[39;00m\u001b[33m_\u001b[39m\u001b[38;5;132;01m{\u001b[39;00mdisplay_as_type(t)\u001b[38;5;132;01m}\u001b[39;00m\u001b[33m'\u001b[39m) \u001b[38;5;28;01mfor\u001b[39;00m t \u001b[38;5;129;01min\u001b[39;00m types_]\n\u001b[32m    663\u001b[39m         \u001b[38;5;28;01mif\u001b[39;00m \u001b[38;5;28mself\u001b[39m.discriminator_key \u001b[38;5;129;01mis\u001b[39;00m \u001b[38;5;129;01mnot\u001b[39;00m \u001b[38;5;28;01mNone\u001b[39;00m:\n\u001b[32m--> \u001b[39m\u001b[32m664\u001b[39m             \u001b[38;5;28;43mself\u001b[39;49m\u001b[43m.\u001b[49m\u001b[43mprepare_discriminated_union_sub_fields\u001b[49m\u001b[43m(\u001b[49m\u001b[43m)\u001b[49m\n\u001b[32m    665\u001b[39m     \u001b[38;5;28;01mreturn\u001b[39;00m\n\u001b[32m    666\u001b[39m \u001b[38;5;28;01melif\u001b[39;00m \u001b[38;5;28missubclass\u001b[39m(origin, Tuple):  \u001b[38;5;66;03m# type: ignore\u001b[39;00m\n\u001b[32m    667\u001b[39m     \u001b[38;5;66;03m# origin == Tuple without item type\u001b[39;00m\n",
      "\u001b[36mFile \u001b[39m\u001b[32m~/Code/ext/reflex-experiment/.venv/lib/python3.13/site-packages/pydantic/v1/fields.py:778\u001b[39m, in \u001b[36mModelField.prepare_discriminated_union_sub_fields\u001b[39m\u001b[34m(self)\u001b[39m\n\u001b[32m    774\u001b[39m \u001b[38;5;28;01mif\u001b[39;00m t.\u001b[34m__class__\u001b[39m \u001b[38;5;129;01mis\u001b[39;00m ForwardRef:\n\u001b[32m    775\u001b[39m     \u001b[38;5;66;03m# Stopping everything...will need to call `update_forward_refs`\u001b[39;00m\n\u001b[32m    776\u001b[39m     \u001b[38;5;28;01mreturn\u001b[39;00m\n\u001b[32m--> \u001b[39m\u001b[32m778\u001b[39m alias, discriminator_values = \u001b[43mget_discriminator_alias_and_values\u001b[49m\u001b[43m(\u001b[49m\u001b[43mt\u001b[49m\u001b[43m,\u001b[49m\u001b[43m \u001b[49m\u001b[38;5;28;43mself\u001b[39;49m\u001b[43m.\u001b[49m\u001b[43mdiscriminator_key\u001b[49m\u001b[43m)\u001b[49m\n\u001b[32m    779\u001b[39m all_aliases.add(alias)\n\u001b[32m    780\u001b[39m \u001b[38;5;28;01mfor\u001b[39;00m discriminator_value \u001b[38;5;129;01min\u001b[39;00m discriminator_values:\n",
      "\u001b[36mFile \u001b[39m\u001b[32m~/Code/ext/reflex-experiment/.venv/lib/python3.13/site-packages/pydantic/v1/utils.py:790\u001b[39m, in \u001b[36mget_discriminator_alias_and_values\u001b[39m\u001b[34m(tp, discriminator_key)\u001b[39m\n\u001b[32m    788\u001b[39m     \u001b[38;5;28;01mraise\u001b[39;00m \u001b[38;5;167;01mTypeError\u001b[39;00m(\u001b[33mf\u001b[39m\u001b[33m'\u001b[39m\u001b[33mType \u001b[39m\u001b[38;5;132;01m{\u001b[39;00mtp.\u001b[34m__name__\u001b[39m\u001b[38;5;132;01m!r}\u001b[39;00m\u001b[33m is not a valid `BaseModel` or `dataclass`\u001b[39m\u001b[33m'\u001b[39m) \u001b[38;5;28;01mfrom\u001b[39;00m\u001b[38;5;250m \u001b[39m\u001b[34;01me\u001b[39;00m\n\u001b[32m    789\u001b[39m \u001b[38;5;28;01mexcept\u001b[39;00m \u001b[38;5;167;01mKeyError\u001b[39;00m \u001b[38;5;28;01mas\u001b[39;00m e:\n\u001b[32m--> \u001b[39m\u001b[32m790\u001b[39m     \u001b[38;5;28;01mraise\u001b[39;00m ConfigError(\u001b[33mf\u001b[39m\u001b[33m'\u001b[39m\u001b[33mModel \u001b[39m\u001b[38;5;132;01m{\u001b[39;00mtp.\u001b[34m__name__\u001b[39m\u001b[38;5;132;01m!r}\u001b[39;00m\u001b[33m needs a discriminator field for key \u001b[39m\u001b[38;5;132;01m{\u001b[39;00mdiscriminator_key\u001b[38;5;132;01m!r}\u001b[39;00m\u001b[33m'\u001b[39m) \u001b[38;5;28;01mfrom\u001b[39;00m\u001b[38;5;250m \u001b[39m\u001b[34;01me\u001b[39;00m\n\u001b[32m    792\u001b[39m \u001b[38;5;28;01mif\u001b[39;00m \u001b[38;5;129;01mnot\u001b[39;00m is_literal_type(t_discriminator_type):\n\u001b[32m    793\u001b[39m     \u001b[38;5;28;01mraise\u001b[39;00m ConfigError(\u001b[33mf\u001b[39m\u001b[33m'\u001b[39m\u001b[33mField \u001b[39m\u001b[38;5;132;01m{\u001b[39;00mdiscriminator_key\u001b[38;5;132;01m!r}\u001b[39;00m\u001b[33m of model \u001b[39m\u001b[38;5;132;01m{\u001b[39;00mtp.\u001b[34m__name__\u001b[39m\u001b[38;5;132;01m!r}\u001b[39;00m\u001b[33m needs to be a `Literal`\u001b[39m\u001b[33m'\u001b[39m)\n",
      "\u001b[31mConfigError\u001b[39m: Model 'HTMLAnchorElementNative' needs a discriminator field for key 'tag_name'"
     ]
    }
   ],
   "source": [
    "from reflex_experiment.helpers import create_camel_model\n",
    "from reflex_experiment.events import PointerEvent, TouchEvent\n",
    "from reflex_experiment.elements import HTMLButtonElement\n",
    "\n",
    "m = create_camel_model(TouchEvent[HTMLButtonElement], suffix=\"Native\")\n",
    "m.__fields__"
   ]
  }
 ],
 "metadata": {
  "kernelspec": {
   "display_name": ".venv",
   "language": "python",
   "name": "python3"
  },
  "language_info": {
   "codemirror_mode": {
    "name": "ipython",
    "version": 3
   },
   "file_extension": ".py",
   "mimetype": "text/x-python",
   "name": "python",
   "nbconvert_exporter": "python",
   "pygments_lexer": "ipython3",
   "version": "3.13.0"
  }
 },
 "nbformat": 4,
 "nbformat_minor": 2
}
