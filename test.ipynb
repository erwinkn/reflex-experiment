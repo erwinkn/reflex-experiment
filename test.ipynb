{
 "cells": [
  {
   "cell_type": "code",
   "execution_count": 1,
   "metadata": {},
   "outputs": [
    {
     "data": {
      "text/plain": [
       "{'clientHeight': ModelField(name='clientHeight', type=float, required=True),\n",
       " 'scrollWidth': ModelField(name='scrollWidth', type=float, required=True),\n",
       " 'contentEditable': ModelField(name='contentEditable', type=str, required=True),\n",
       " 'async_': ModelField(name='async_', type=bool, required=True, alias='async')}"
      ]
     },
     "execution_count": 1,
     "metadata": {},
     "output_type": "execute_result"
    }
   ],
   "source": [
    "import reflex as rx\n",
    "from reflex_experiment.helpers import create_camel_model\n",
    "from pydantic.v1 import Field\n",
    "\n",
    "# Original model with snake_case\n",
    "class MyElement(rx.Base):\n",
    "    client_height: float\n",
    "    scroll_width: float\n",
    "    content_editable: str\n",
    "    async_: bool = Field(alias='async')\n",
    "\n",
    "\n",
    "# Create camelCase version\n",
    "MyElementNative = create_camel_model(MyElement)\n",
    "MyElementNative.__fields__\n",
    "\n",
    "# Now has fields: clientHeight, scrollWidth, contentEditable"
   ]
  }
 ],
 "metadata": {
  "kernelspec": {
   "display_name": ".venv",
   "language": "python",
   "name": "python3"
  },
  "language_info": {
   "codemirror_mode": {
    "name": "ipython",
    "version": 3
   },
   "file_extension": ".py",
   "mimetype": "text/x-python",
   "name": "python",
   "nbconvert_exporter": "python",
   "pygments_lexer": "ipython3",
   "version": "3.13.0"
  }
 },
 "nbformat": 4,
 "nbformat_minor": 2
}
