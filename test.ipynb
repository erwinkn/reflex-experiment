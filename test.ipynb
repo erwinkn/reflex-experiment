{
 "cells": [
  {
   "cell_type": "code",
   "execution_count": 2,
   "metadata": {},
   "outputs": [
    {
     "data": {
      "text/plain": [
       "typing.Annotated[reflex.event.EventHandler, <function pointer_event at 0x128061da0>]"
      ]
     },
     "execution_count": 2,
     "metadata": {},
     "output_type": "execute_result"
    }
   ],
   "source": [
    "import reflex as rx\n",
    "from reflex_experiment.events import pointer_event\n",
    "\n",
    "rx.EventHandler[pointer_event]"
   ]
  },
  {
   "cell_type": "code",
   "execution_count": null,
   "metadata": {},
   "outputs": [
    {
     "name": "stdout",
     "output_type": "stream",
     "text": [
      "on_click type: typing.Annotated[reflex.event.EventHandler, <function pointer_event at 0x107f61da0>]\n"
     ]
    },
    {
     "data": {
      "text/plain": [
       "reflex.event.EventHandler"
      ]
     },
     "execution_count": 1,
     "metadata": {},
     "output_type": "execute_result"
    }
   ],
   "source": [
    "from typing import Literal, Unpack\n",
    "import reflex as rx\n",
    "from reflex_experiment.props import with_props\n",
    "from reflex_experiment.attributes import ButtonHTMLAttributes\n",
    "\n",
    "class State(rx.State):\n",
    "\n",
    "    @rx.event\n",
    "    def handle_stuff(self, a: int, b: str):\n",
    "        ...\n",
    "    \n",
    "State.handle_stuff\n",
    "\n",
    "class ButtonProps(ButtonHTMLAttributes):\n",
    "    variant: Literal[\"default\", \"destructive\", \"outline\", \"secondary\", \"ghost\", \"link\"]\n",
    "    size: Literal[\"default\", \"sm\", \"lg\", \"icon\"]\n",
    "    as_child: bool\n",
    "\n",
    "\n",
    "@with_props(ButtonProps)\n",
    "class Button(rx.Component):\n",
    "    \"\"\"A button component based on shadcn/ui.\"\"\"\n",
    "\n",
    "    library = \"$/custom/shadcn/button\"\n",
    "    tag = \"Button\"\n",
    "\n",
    "    test: rx.Var[str]\n",
    "\n",
    "    @classmethod\n",
    "    def create(cls, *args, **kwargs: Unpack[ButtonProps]):\n",
    "        return super().create(*args, **kwargs)\n",
    "\n",
    "\n",
    "# Button.get_fields()['on_click'].field_info\n",
    "\n",
    "Button.create().get_fields()['on_click'].type_"
   ]
  },
  {
   "cell_type": "code",
   "execution_count": null,
   "metadata": {},
   "outputs": [],
   "source": [
    "from typing import TypedDict\n",
    "from reflex_experiment.attributes import HTMLAttributes\n",
    "\n",
    "\n",
    "class AccordionProps(HTMLAttributes, total=False):\n",
    "    as_child: bool\n",
    "    type: Literal[\"single\", \"multiple\"]\n",
    "    default_value: str | list[str]\n",
    "    value: str | list[str]\n",
    "    on_value_change: Callable[[str], None]\n",
    "    collapsible: bool\n",
    "    disabled: bool\n",
    "    # dir is a base HTML attribute\n",
    "    orientation: Literal[\"vertical\", \"horizontal\"]\n",
    "\n",
    "\n",
    "@with_props(AccordionProps)\n",
    "class AccordionRoot(rx.Component):\n",
    "    library = \"$/custom/accordion\"\n",
    "    tag = \"Accordion\"\n",
    "\n",
    "accordion = AccordionRoot.create()\n",
    "AccordionRoot.add_field"
   ]
  }
 ],
 "metadata": {
  "kernelspec": {
   "display_name": ".venv",
   "language": "python",
   "name": "python3"
  },
  "language_info": {
   "codemirror_mode": {
    "name": "ipython",
    "version": 3
   },
   "file_extension": ".py",
   "mimetype": "text/x-python",
   "name": "python",
   "nbconvert_exporter": "python",
   "pygments_lexer": "ipython3",
   "version": "3.13.0"
  }
 },
 "nbformat": 4,
 "nbformat_minor": 2
}
